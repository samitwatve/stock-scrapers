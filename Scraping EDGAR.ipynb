{
 "cells": [
  {
   "cell_type": "code",
   "execution_count": 3,
   "id": "f8c315a6",
   "metadata": {},
   "outputs": [],
   "source": [
    "# import our libraries\n",
    "import requests\n",
    "import pandas as pd\n",
    "from bs4 import BeautifulSoup as bs\n",
    "import json\n",
    "from sec_edgar_downloader import Downloader\n",
    "import sys"
   ]
  },
  {
   "cell_type": "code",
   "execution_count": 2,
   "id": "89391fcd",
   "metadata": {},
   "outputs": [],
   "source": [
    "# Get all 10-K filings for Apple after January 1, 2017 and before March 25, 2017\n",
    "# Note: after and before strings must be in the form \"YYYY-MM-DD\"\n",
    "#dl = Downloader()\n",
    "# dl.get(\"10-K\", \"AAPL\", after=\"2017-01-01\", before=\"2022-04-18\")"
   ]
  },
  {
   "cell_type": "markdown",
   "id": "0acd8b99",
   "metadata": {},
   "source": [
    "Declare User Agent. Without this the SEC throttles API requests"
   ]
  },
  {
   "cell_type": "code",
   "execution_count": null,
   "id": "db35cd32",
   "metadata": {},
   "outputs": [],
   "source": [
    "headers = {\n",
    "    \"User-Agent\": \"MONEY LOSING COMPANY aptsearchatl@gmail.com\",\n",
    "    \"Accept-Encoding\": \"gzip, deflate\",\n",
    "    \"Host\": \"www.sec.gov\"\n",
    "}"
   ]
  },
  {
   "cell_type": "markdown",
   "id": "282c036a",
   "metadata": {},
   "source": [
    "Create URL to build request.\n",
    "\n",
    "url is structured in the following way:\n",
    "    \n",
    "- `base_url`: \"https://www.sec.gov/cgi-bin/browse-edgar?action=getcompany&\"\n",
    "- `CIK`: Unique company identifier e.g. `0000051143` is the unique identifier for `IBM`\n",
    "- `filing_type` = Filing type e.g.`10-K`\n",
    "- `date_before` = All Filings *before* that date e.g. `20160101` (yyyymmdd)"
   ]
  },
  {
   "cell_type": "code",
   "execution_count": 24,
   "id": "90287ee5",
   "metadata": {},
   "outputs": [
    {
     "name": "stdout",
     "output_type": "stream",
     "text": [
      "https://www.sec.gov/cgi-bin/browse-edgar?action=getcompany&CIK=0000051143&type=10-K&dateb=20160101\n"
     ]
    }
   ],
   "source": [
    "base_url = \"https://www.sec.gov/cgi-bin/browse-edgar?action=getcompany\"\n",
    "CIK = \"CIK=\" + '0000051143'\n",
    "filing_type = \"type=\" + '10-K'\n",
    "date_before = \"dateb=\" + '20160101'\n",
    "sep = \"&\"\n",
    "\n",
    "var_list = [base_url, CIK, filing_type, date_before]\n",
    "url = sep.join(var_list)\n",
    "\n",
    "print(url)"
   ]
  },
  {
   "cell_type": "code",
   "execution_count": 25,
   "id": "48926549",
   "metadata": {},
   "outputs": [
    {
     "data": {
      "text/plain": [
       "<Response [200]>"
      ]
     },
     "execution_count": 25,
     "metadata": {},
     "output_type": "execute_result"
    }
   ],
   "source": [
    "new_url = \"https://www.sec.gov/cgi-bin/viewer?action=view&cik=51143&accession_number=0001047469-15-001106&xbrl_type=v#\"\n",
    "\n",
    "response = requests.get(new_url, headers = headers)\n",
    "response"
   ]
  },
  {
   "cell_type": "code",
   "execution_count": 35,
   "id": "cd3ad7bc",
   "metadata": {},
   "outputs": [
    {
     "ename": "AttributeError",
     "evalue": "'NoneType' object has no attribute 'find_all'",
     "output_type": "error",
     "traceback": [
      "\u001b[1;31m---------------------------------------------------------------------------\u001b[0m",
      "\u001b[1;31mAttributeError\u001b[0m                            Traceback (most recent call last)",
      "Input \u001b[1;32mIn [35]\u001b[0m, in \u001b[0;36m<cell line: 5>\u001b[1;34m()\u001b[0m\n\u001b[0;32m      3\u001b[0m soup \u001b[38;5;241m=\u001b[39m bs(edgar_str, \u001b[38;5;124m'\u001b[39m\u001b[38;5;124mhtml.parser\u001b[39m\u001b[38;5;124m'\u001b[39m)\n\u001b[0;32m      4\u001b[0m table_tag \u001b[38;5;241m=\u001b[39m soup\u001b[38;5;241m.\u001b[39mfind(\u001b[38;5;124m'\u001b[39m\u001b[38;5;124mtable\u001b[39m\u001b[38;5;124m'\u001b[39m, class_\u001b[38;5;241m=\u001b[39m\u001b[38;5;124m'\u001b[39m\u001b[38;5;124mtableFile2\u001b[39m\u001b[38;5;124m'\u001b[39m)\n\u001b[1;32m----> 5\u001b[0m rows \u001b[38;5;241m=\u001b[39m \u001b[43mtable_tag\u001b[49m\u001b[38;5;241;43m.\u001b[39;49m\u001b[43mfind_all\u001b[49m(\u001b[38;5;124m'\u001b[39m\u001b[38;5;124mtr\u001b[39m\u001b[38;5;124m'\u001b[39m)\n\u001b[0;32m      6\u001b[0m \u001b[38;5;28;01mfor\u001b[39;00m row \u001b[38;5;129;01min\u001b[39;00m rows:\n\u001b[0;32m      7\u001b[0m     cells \u001b[38;5;241m=\u001b[39m row\u001b[38;5;241m.\u001b[39mfind_all(\u001b[38;5;124m'\u001b[39m\u001b[38;5;124mtd\u001b[39m\u001b[38;5;124m'\u001b[39m)\n",
      "\u001b[1;31mAttributeError\u001b[0m: 'NoneType' object has no attribute 'find_all'"
     ]
    }
   ],
   "source": [
    "# Find the document link\n",
    "doc_link = ''\n",
    "soup = bs(edgar_str, 'html.parser')\n",
    "table_tag = soup.find('table', class_='tableFile2')\n",
    "rows = table_tag.find_all('tr')\n",
    "for row in rows:\n",
    "    cells = row.find_all('td')\n",
    "    if len(cells) > 3:\n",
    "        if '2015' in cells[3].text:\n",
    "            doc_link = 'https://www.sec.gov' + cells[1].a['href']"
   ]
  }
 ],
 "metadata": {
  "kernelspec": {
   "display_name": "Python 3 (ipykernel)",
   "language": "python",
   "name": "python3"
  },
  "language_info": {
   "codemirror_mode": {
    "name": "ipython",
    "version": 3
   },
   "file_extension": ".py",
   "mimetype": "text/x-python",
   "name": "python",
   "nbconvert_exporter": "python",
   "pygments_lexer": "ipython3",
   "version": "3.10.4"
  },
  "varInspector": {
   "cols": {
    "lenName": 16,
    "lenType": 16,
    "lenVar": 40
   },
   "kernels_config": {
    "python": {
     "delete_cmd_postfix": "",
     "delete_cmd_prefix": "del ",
     "library": "var_list.py",
     "varRefreshCmd": "print(var_dic_list())"
    },
    "r": {
     "delete_cmd_postfix": ") ",
     "delete_cmd_prefix": "rm(",
     "library": "var_list.r",
     "varRefreshCmd": "cat(var_dic_list()) "
    }
   },
   "types_to_exclude": [
    "module",
    "function",
    "builtin_function_or_method",
    "instance",
    "_Feature"
   ],
   "window_display": false
  }
 },
 "nbformat": 4,
 "nbformat_minor": 5
}
