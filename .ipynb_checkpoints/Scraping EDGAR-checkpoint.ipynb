{
 "cells": [
  {
   "cell_type": "code",
   "execution_count": 3,
   "id": "f8c315a6",
   "metadata": {},
   "outputs": [],
   "source": [
    "# import our libraries\n",
    "import requests\n",
    "import pandas as pd\n",
    "from bs4 import BeautifulSoup as bs\n",
    "import json\n",
    "from sec_edgar_downloader import Downloader\n",
    "import sys"
   ]
  },
  {
   "cell_type": "code",
   "execution_count": 2,
   "id": "89391fcd",
   "metadata": {},
   "outputs": [],
   "source": [
    "# Get all 10-K filings for Apple after January 1, 2017 and before March 25, 2017\n",
    "# Note: after and before strings must be in the form \"YYYY-MM-DD\"\n",
    "#dl = Downloader()\n",
    "# dl.get(\"10-K\", \"AAPL\", after=\"2017-01-01\", before=\"2022-04-18\")"
   ]
  },
  {
   "cell_type": "markdown",
   "id": "cacb1684",
   "metadata": {},
   "source": [
    "Declare User Agent. Without this the SEC throttles API requests"
   ]
  },
  {
   "cell_type": "code",
   "execution_count": null,
   "id": "2c6bd45c",
   "metadata": {},
   "outputs": [],
   "source": [
    "headers = {\n",
    "    \"User-Agent\": \"MONEY LOSING COMPANY aptsearchatl@gmail.com\",\n",
    "    \"Accept-Encoding\": \"gzip, deflate\",\n",
    "    \"Host\": \"www.sec.gov\"\n",
    "}"
   ]
  },
  {
   "cell_type": "markdown",
   "id": "51343ee4",
   "metadata": {},
   "source": [
    "Create URL to build request.\n",
    "\n",
    "url is structured in the following way:\n",
    "    \n",
    "- `base_url`: \"https://www.sec.gov/cgi-bin/browse-edgar?action=getcompany&\"\n",
    "- `CIK`: Unique company identifier e.g. `0000051143` is the unique identifier for `IBM`\n",
    "- `filing_type` = Filing type e.g.`10-K`\n",
    "- `date_before` = All Filings *before* that date e.g. `20160101` (yyyymmdd)"
   ]
  },
  {
   "cell_type": "code",
   "execution_count": 24,
   "id": "3c353e61",
   "metadata": {},
   "outputs": [
    {
     "name": "stdout",
     "output_type": "stream",
     "text": [
      "https://www.sec.gov/cgi-bin/browse-edgar?action=getcompany&CIK=0000051143&type=10-K&dateb=20160101\n"
     ]
    }
   ],
   "source": [
    "base_url = \"https://www.sec.gov/cgi-bin/browse-edgar?action=getcompany\"\n",
    "CIK = \"CIK=\" + '0000051143'\n",
    "filing_type = \"type=\" + '10-K'\n",
    "date_before = \"dateb=\" + '20160101'\n",
    "sep = \"&\"\n",
    "\n",
    "var_list = [base_url, CIK, filing_type, date_before]\n",
    "url = sep.join(var_list)\n",
    "\n",
    "print(url)"
   ]
  },
  {
   "cell_type": "code",
   "execution_count": 25,
   "id": "b4b2e289",
   "metadata": {},
   "outputs": [
    {
     "data": {
      "text/plain": [
       "<Response [200]>"
      ]
     },
     "execution_count": 25,
     "metadata": {},
     "output_type": "execute_result"
    }
   ],
   "source": [
    "new_url = \"https://www.sec.gov/cgi-bin/viewer?action=view&cik=51143&accession_number=0001047469-15-001106&xbrl_type=v#\"\n",
    "\n",
    "response = requests.get(new_url, headers = headers)\n",
    "response"
   ]
  },
  {
   "cell_type": "code",
   "execution_count": 35,
   "id": "e0f7176f",
   "metadata": {},
   "outputs": [
    {
     "ename": "AttributeError",
     "evalue": "'NoneType' object has no attribute 'find_all'",
     "output_type": "error",
     "traceback": [
      "\u001b[1;31m---------------------------------------------------------------------------\u001b[0m",
      "\u001b[1;31mAttributeError\u001b[0m                            Traceback (most recent call last)",
      "Input \u001b[1;32mIn [35]\u001b[0m, in \u001b[0;36m<cell line: 5>\u001b[1;34m()\u001b[0m\n\u001b[0;32m      3\u001b[0m soup \u001b[38;5;241m=\u001b[39m bs(edgar_str, \u001b[38;5;124m'\u001b[39m\u001b[38;5;124mhtml.parser\u001b[39m\u001b[38;5;124m'\u001b[39m)\n\u001b[0;32m      4\u001b[0m table_tag \u001b[38;5;241m=\u001b[39m soup\u001b[38;5;241m.\u001b[39mfind(\u001b[38;5;124m'\u001b[39m\u001b[38;5;124mtable\u001b[39m\u001b[38;5;124m'\u001b[39m, class_\u001b[38;5;241m=\u001b[39m\u001b[38;5;124m'\u001b[39m\u001b[38;5;124mtableFile2\u001b[39m\u001b[38;5;124m'\u001b[39m)\n\u001b[1;32m----> 5\u001b[0m rows \u001b[38;5;241m=\u001b[39m \u001b[43mtable_tag\u001b[49m\u001b[38;5;241;43m.\u001b[39;49m\u001b[43mfind_all\u001b[49m(\u001b[38;5;124m'\u001b[39m\u001b[38;5;124mtr\u001b[39m\u001b[38;5;124m'\u001b[39m)\n\u001b[0;32m      6\u001b[0m \u001b[38;5;28;01mfor\u001b[39;00m row \u001b[38;5;129;01min\u001b[39;00m rows:\n\u001b[0;32m      7\u001b[0m     cells \u001b[38;5;241m=\u001b[39m row\u001b[38;5;241m.\u001b[39mfind_all(\u001b[38;5;124m'\u001b[39m\u001b[38;5;124mtd\u001b[39m\u001b[38;5;124m'\u001b[39m)\n",
      "\u001b[1;31mAttributeError\u001b[0m: 'NoneType' object has no attribute 'find_all'"
     ]
    }
   ],
   "source": [
    "# Find the document link\n",
    "doc_link = ''\n",
    "soup = bs(edgar_str, 'html.parser')\n",
    "table_tag = soup.find('table', class_='tableFile2')\n",
    "rows = table_tag.find_all('tr')\n",
    "for row in rows:\n",
    "    cells = row.find_all('td')\n",
    "    if len(cells) > 3:\n",
    "        if '2015' in cells[3].text:\n",
    "            doc_link = 'https://www.sec.gov' + cells[1].a['href']"
   ]
  },
  {
   "cell_type": "code",
   "execution_count": 33,
   "id": "45a38bfe",
   "metadata": {},
   "outputs": [
    {
     "data": {
      "text/plain": [
       "[<table>\n",
       " <tr>\n",
       " <td colspan=\"2\"><a class=\"xbrlviewer\" href=\"javascript:window.print();\" style=\"color: black; font-weight: bold;\">Print Document</a> <a class=\"xbrlviewer\" href=\"/Archives/edgar/data/51143/000104746915001106/Financial_Report.xlsx\">View Excel Document</a></td>\n",
       " </tr>\n",
       " <tr>\n",
       " <td style=\"vertical-align: top;\">\n",
       " <div style=\"width: 170px; margin-right: 5px;\">\n",
       " <ul id=\"menu\">\n",
       " <!-- cover_category = 0 -->\n",
       " <li class=\"accordion\">\n",
       " <a href=\"#\" id=\"menu_cat1\">Cover</a>\n",
       " <ul>\n",
       " <li class=\"accordion\" id=\"r1\"><a class=\"xbrlviewer\" href=\"javascript:loadReport(1);\" onclick=\"javascript:highlight(this);\">Document and Entity Information</a></li>\n",
       " </ul>\n",
       " </li>\n",
       " <li class=\"accordion\">\n",
       " <a href=\"#\" id=\"menu_cat2\">Financial Statements</a>\n",
       " <ul>\n",
       " <li class=\"accordion\" id=\"r2\"><a class=\"xbrlviewer\" href=\"javascript:loadReport(2);\" onclick=\"javascript:highlight(this);\">Consolidated Statement of Earnings</a></li>\n",
       " <li class=\"accordion\" id=\"r3\"><a class=\"xbrlviewer\" href=\"javascript:loadReport(3);\" onclick=\"javascript:highlight(this);\">Consolidated Statement of Comprehensive Income</a></li>\n",
       " <li class=\"accordion\" id=\"r4\"><a class=\"xbrlviewer\" href=\"javascript:loadReport(4);\" onclick=\"javascript:highlight(this);\">Consolidated Statement of Financial Position</a></li>\n",
       " <li class=\"accordion\" id=\"r5\"><a class=\"xbrlviewer\" href=\"javascript:loadReport(5);\" onclick=\"javascript:highlight(this);\">Consolidated Statement of Financial Position (Parenthetical)</a></li>\n",
       " <li class=\"accordion\" id=\"r6\"><a class=\"xbrlviewer\" href=\"javascript:loadReport(6);\" onclick=\"javascript:highlight(this);\">Consolidated Statement of Cash Flows</a></li>\n",
       " <li class=\"accordion\" id=\"r7\"><a class=\"xbrlviewer\" href=\"javascript:loadReport(7);\" onclick=\"javascript:highlight(this);\">Consolidated Statement of Changes in Equity</a></li>\n",
       " <li class=\"accordion\" id=\"r8\"><a class=\"xbrlviewer\" href=\"javascript:loadReport(8);\" onclick=\"javascript:highlight(this);\">Consolidated Statement of Changes in Equity (Parenthetical)</a></li>\n",
       " </ul>\n",
       " </li>\n",
       " <li class=\"accordion\">\n",
       " <a href=\"#\" id=\"menu_cat3\">Notes to Financial Statements</a>\n",
       " <ul>\n",
       " <li class=\"accordion\" id=\"r9\"><a class=\"xbrlviewer\" href=\"javascript:loadReport(9);\" onclick=\"javascript:highlight(this);\">Significant Accounting Policies</a></li>\n",
       " <li class=\"accordion\" id=\"r10\"><a class=\"xbrlviewer\" href=\"javascript:loadReport(10);\" onclick=\"javascript:highlight(this);\">Accounting Changes</a></li>\n",
       " <li class=\"accordion\" id=\"r11\"><a class=\"xbrlviewer\" href=\"javascript:loadReport(11);\" onclick=\"javascript:highlight(this);\">Acquisitions/Divestitures</a></li>\n",
       " <li class=\"accordion\" id=\"r12\"><a class=\"xbrlviewer\" href=\"javascript:loadReport(12);\" onclick=\"javascript:highlight(this);\">Financial Instruments</a></li>\n",
       " <li class=\"accordion\" id=\"r13\"><a class=\"xbrlviewer\" href=\"javascript:loadReport(13);\" onclick=\"javascript:highlight(this);\">Inventories</a></li>\n",
       " <li class=\"accordion\" id=\"r14\"><a class=\"xbrlviewer\" href=\"javascript:loadReport(14);\" onclick=\"javascript:highlight(this);\">Financing Receivables</a></li>\n",
       " <li class=\"accordion\" id=\"r15\"><a class=\"xbrlviewer\" href=\"javascript:loadReport(15);\" onclick=\"javascript:highlight(this);\">Property, Plant and Equipment</a></li>\n",
       " <li class=\"accordion\" id=\"r16\"><a class=\"xbrlviewer\" href=\"javascript:loadReport(16);\" onclick=\"javascript:highlight(this);\">Investments and Sundry Assets</a></li>\n",
       " <li class=\"accordion\" id=\"r17\"><a class=\"xbrlviewer\" href=\"javascript:loadReport(17);\" onclick=\"javascript:highlight(this);\">Intangible Assets Including Goodwill</a></li>\n",
       " <li class=\"accordion\" id=\"r18\"><a class=\"xbrlviewer\" href=\"javascript:loadReport(18);\" onclick=\"javascript:highlight(this);\">Borrowings</a></li>\n",
       " <li class=\"accordion\" id=\"r19\"><a class=\"xbrlviewer\" href=\"javascript:loadReport(19);\" onclick=\"javascript:highlight(this);\">Other Liabilities</a></li>\n",
       " <li class=\"accordion\" id=\"r20\"><a class=\"xbrlviewer\" href=\"javascript:loadReport(20);\" onclick=\"javascript:highlight(this);\">Equity Activity</a></li>\n",
       " <li class=\"accordion\" id=\"r21\"><a class=\"xbrlviewer\" href=\"javascript:loadReport(21);\" onclick=\"javascript:highlight(this);\">Contingencies and Commitments</a></li>\n",
       " <li class=\"accordion\" id=\"r22\"><a class=\"xbrlviewer\" href=\"javascript:loadReport(22);\" onclick=\"javascript:highlight(this);\">Taxes</a></li>\n",
       " <li class=\"accordion\" id=\"r23\"><a class=\"xbrlviewer\" href=\"javascript:loadReport(23);\" onclick=\"javascript:highlight(this);\">Research, Development and Engineering</a></li>\n",
       " <li class=\"accordion\" id=\"r24\"><a class=\"xbrlviewer\" href=\"javascript:loadReport(24);\" onclick=\"javascript:highlight(this);\">Earnings Per Share of Common Stock</a></li>\n",
       " <li class=\"accordion\" id=\"r25\"><a class=\"xbrlviewer\" href=\"javascript:loadReport(25);\" onclick=\"javascript:highlight(this);\">Rental Expense and Lease Commitments</a></li>\n",
       " <li class=\"accordion\" id=\"r26\"><a class=\"xbrlviewer\" href=\"javascript:loadReport(26);\" onclick=\"javascript:highlight(this);\">Stock-Based Compensation</a></li>\n",
       " <li class=\"accordion\" id=\"r27\"><a class=\"xbrlviewer\" href=\"javascript:loadReport(27);\" onclick=\"javascript:highlight(this);\">Retirement-Related Benefits</a></li>\n",
       " <li class=\"accordion\" id=\"r28\"><a class=\"xbrlviewer\" href=\"javascript:loadReport(28);\" onclick=\"javascript:highlight(this);\">Segment Information</a></li>\n",
       " <li class=\"accordion\" id=\"r29\"><a class=\"xbrlviewer\" href=\"javascript:loadReport(29);\" onclick=\"javascript:highlight(this);\">Subsequent Events</a></li>\n",
       " <li class=\"accordion\" id=\"r30\"><a class=\"xbrlviewer\" href=\"javascript:loadReport(30);\" onclick=\"javascript:highlight(this);\">SCHEDULE II VALUATION AND QUALIFYING ACCOUNTS AND RESERVES</a></li>\n",
       " </ul>\n",
       " </li>\n",
       " <li class=\"accordion\">\n",
       " <a href=\"#\" id=\"menu_cat4\">Accounting Policies</a>\n",
       " <ul>\n",
       " <li class=\"accordion\" id=\"r31\"><a class=\"xbrlviewer\" href=\"javascript:loadReport(31);\" onclick=\"javascript:highlight(this);\">Significant Accounting Policies (Policies)</a></li>\n",
       " </ul>\n",
       " </li>\n",
       " <li class=\"accordion\">\n",
       " <a href=\"#\" id=\"menu_cat5\">Notes Tables</a>\n",
       " <ul>\n",
       " <li class=\"accordion\" id=\"r32\"><a class=\"xbrlviewer\" href=\"javascript:loadReport(32);\" onclick=\"javascript:highlight(this);\">Significant Accounting Policies (Tables)</a></li>\n",
       " <li class=\"accordion\" id=\"r33\"><a class=\"xbrlviewer\" href=\"javascript:loadReport(33);\" onclick=\"javascript:highlight(this);\">Acquisitions/Divestitures (Tables)</a></li>\n",
       " <li class=\"accordion\" id=\"r34\"><a class=\"xbrlviewer\" href=\"javascript:loadReport(34);\" onclick=\"javascript:highlight(this);\">Financial Instruments (Tables)</a></li>\n",
       " <li class=\"accordion\" id=\"r35\"><a class=\"xbrlviewer\" href=\"javascript:loadReport(35);\" onclick=\"javascript:highlight(this);\">Inventories (Tables)</a></li>\n",
       " <li class=\"accordion\" id=\"r36\"><a class=\"xbrlviewer\" href=\"javascript:loadReport(36);\" onclick=\"javascript:highlight(this);\">Financing Receivables (Tables)</a></li>\n",
       " <li class=\"accordion\" id=\"r37\"><a class=\"xbrlviewer\" href=\"javascript:loadReport(37);\" onclick=\"javascript:highlight(this);\">Property, Plant and Equipment (Tables)</a></li>\n",
       " <li class=\"accordion\" id=\"r38\"><a class=\"xbrlviewer\" href=\"javascript:loadReport(38);\" onclick=\"javascript:highlight(this);\">Investments and Sundry Assets (Tables)</a></li>\n",
       " <li class=\"accordion\" id=\"r39\"><a class=\"xbrlviewer\" href=\"javascript:loadReport(39);\" onclick=\"javascript:highlight(this);\">Intangible Assets Including Goodwill (Tables)</a></li>\n",
       " <li class=\"accordion\" id=\"r40\"><a class=\"xbrlviewer\" href=\"javascript:loadReport(40);\" onclick=\"javascript:highlight(this);\">Borrowings (Tables)</a></li>\n",
       " <li class=\"accordion\" id=\"r41\"><a class=\"xbrlviewer\" href=\"javascript:loadReport(41);\" onclick=\"javascript:highlight(this);\">Other Liabilities (Tables)</a></li>\n",
       " <li class=\"accordion\" id=\"r42\"><a class=\"xbrlviewer\" href=\"javascript:loadReport(42);\" onclick=\"javascript:highlight(this);\">Equity Activity (Tables)</a></li>\n",
       " <li class=\"accordion\" id=\"r43\"><a class=\"xbrlviewer\" href=\"javascript:loadReport(43);\" onclick=\"javascript:highlight(this);\">Taxes (Tables)</a></li>\n",
       " <li class=\"accordion\" id=\"r44\"><a class=\"xbrlviewer\" href=\"javascript:loadReport(44);\" onclick=\"javascript:highlight(this);\">Earnings Per Share of Common Stock (Tables)</a></li>\n",
       " <li class=\"accordion\" id=\"r45\"><a class=\"xbrlviewer\" href=\"javascript:loadReport(45);\" onclick=\"javascript:highlight(this);\">Rental Expense and Lease Commitments (Tables)</a></li>\n",
       " <li class=\"accordion\" id=\"r46\"><a class=\"xbrlviewer\" href=\"javascript:loadReport(46);\" onclick=\"javascript:highlight(this);\">Stock-Based Compensation (Tables)</a></li>\n",
       " <li class=\"accordion\" id=\"r47\"><a class=\"xbrlviewer\" href=\"javascript:loadReport(47);\" onclick=\"javascript:highlight(this);\">Retirement-Related Benefits (Tables)</a></li>\n",
       " <li class=\"accordion\" id=\"r48\"><a class=\"xbrlviewer\" href=\"javascript:loadReport(48);\" onclick=\"javascript:highlight(this);\">Segment Information (Tables)</a></li>\n",
       " </ul>\n",
       " </li>\n",
       " <li class=\"accordion\">\n",
       " <a href=\"#\" id=\"menu_cat6\">Notes Details</a>\n",
       " <ul>\n",
       " <li class=\"accordion\" id=\"r49\"><a class=\"xbrlviewer\" href=\"javascript:loadReport(49);\" onclick=\"javascript:highlight(this);\">Significant Accounting Policies (Narratives) (Details 1)</a></li>\n",
       " <li class=\"accordion\" id=\"r50\"><a class=\"xbrlviewer\" href=\"javascript:loadReport(50);\" onclick=\"javascript:highlight(this);\">Significant Accounting Policies (Standard Warranty and Extended Warranty Tables) (Details 2)</a></li>\n",
       " <li class=\"accordion\" id=\"r51\"><a class=\"xbrlviewer\" href=\"javascript:loadReport(51);\" onclick=\"javascript:highlight(this);\">Significant Accounting Policies (Standard Warranty and Extended Warranty Tables) (Details 3)</a></li>\n",
       " <li class=\"accordion\" id=\"r52\"><a class=\"xbrlviewer\" href=\"javascript:loadReport(52);\" onclick=\"javascript:highlight(this);\">Significant Accounting Policies (Details 4)</a></li>\n",
       " <li class=\"accordion\" id=\"r53\"><a class=\"xbrlviewer\" href=\"javascript:loadReport(53);\" onclick=\"javascript:highlight(this);\">Significant Accounting Policies (Details 5)</a></li>\n",
       " <li class=\"accordion\" id=\"r54\"><a class=\"xbrlviewer\" href=\"javascript:loadReport(54);\" onclick=\"javascript:highlight(this);\">Acquisitions/Divestitures (Details 1)</a></li>\n",
       " <li class=\"accordion\" id=\"r55\"><a class=\"xbrlviewer\" href=\"javascript:loadReport(55);\" onclick=\"javascript:highlight(this);\">Acquisitions/Divestitures (Purchase Price Allocation) (Details 2)</a></li>\n",
       " <li class=\"accordion\" id=\"r56\"><a class=\"xbrlviewer\" href=\"javascript:loadReport(56);\" onclick=\"javascript:highlight(this);\">Acquisitions/Divestitures (Divestiture) (Details 3)</a></li>\n",
       " <li class=\"accordion\" id=\"r57\"><a class=\"xbrlviewer\" href=\"javascript:loadReport(57);\" onclick=\"javascript:highlight(this);\">Acquisitions/Divestitures (Divestiture) (Details 4)</a></li>\n",
       " <li class=\"accordion\" id=\"r58\"><a class=\"xbrlviewer\" href=\"javascript:loadReport(58);\" onclick=\"javascript:highlight(this);\">Acquisitions/Divestitures (Divestiture) (Details 5)</a></li>\n",
       " <li class=\"accordion\" id=\"r59\"><a class=\"xbrlviewer\" href=\"javascript:loadReport(59);\" onclick=\"javascript:highlight(this);\">Acquisitions/Divestitures (Divestiture) (Details 6)</a></li>\n",
       " <li class=\"accordion\" id=\"r60\"><a class=\"xbrlviewer\" href=\"javascript:loadReport(60);\" onclick=\"javascript:highlight(this);\">Financial Instruments (Assets and Liabilities Measured on Recurring Basis Table) (Details 1)</a></li>\n",
       " <li class=\"accordion\" id=\"r61\"><a class=\"xbrlviewer\" href=\"javascript:loadReport(61);\" onclick=\"javascript:highlight(this);\">Financial Instruments (Debt and Marketable Equity Securities Table) (Details 2)</a></li>\n",
       " <li class=\"accordion\" id=\"r62\"><a class=\"xbrlviewer\" href=\"javascript:loadReport(62);\" onclick=\"javascript:highlight(this);\">Financial Instruments (Fair Value of Derivative Instruments Table) (Details 3)</a></li>\n",
       " <li class=\"accordion\" id=\"r63\"><a class=\"xbrlviewer\" href=\"javascript:loadReport(63);\" onclick=\"javascript:highlight(this);\">Financial Instruments (Narratives) (Details 4)</a></li>\n",
       " <li class=\"accordion\" id=\"r64\"><a class=\"xbrlviewer\" href=\"javascript:loadReport(64);\" onclick=\"javascript:highlight(this);\">Financial Instruments (Effect of Derivative Instruments Table) (Details 5)</a></li>\n",
       " <li class=\"accordion\" id=\"r65\"><a class=\"xbrlviewer\" href=\"javascript:loadReport(65);\" onclick=\"javascript:highlight(this);\">Inventories (Details)</a></li>\n",
       " <li class=\"accordion\" id=\"r66\"><a class=\"xbrlviewer\" href=\"javascript:loadReport(66);\" onclick=\"javascript:highlight(this);\">Financing Receivables (Details 1)</a></li>\n",
       " <li class=\"accordion\" id=\"r67\"><a class=\"xbrlviewer\" href=\"javascript:loadReport(67);\" onclick=\"javascript:highlight(this);\">Financing Receivables (Details 2)</a></li>\n",
       " <li class=\"accordion\" id=\"r68\"><a class=\"xbrlviewer\" href=\"javascript:loadReport(68);\" onclick=\"javascript:highlight(this);\">Financing Receivables (Details 3)</a></li>\n",
       " <li class=\"accordion\" id=\"r69\"><a class=\"xbrlviewer\" href=\"javascript:loadReport(69);\" onclick=\"javascript:highlight(this);\">Financing Receivables (Details 4)</a></li>\n",
       " <li class=\"accordion\" id=\"r70\"><a class=\"xbrlviewer\" href=\"javascript:loadReport(70);\" onclick=\"javascript:highlight(this);\">Financing Receivables (Details 5)</a></li>\n",
       " <li class=\"accordion\" id=\"r71\"><a class=\"xbrlviewer\" href=\"javascript:loadReport(71);\" onclick=\"javascript:highlight(this);\">Financing Receivables (Details 6)</a></li>\n",
       " <li class=\"accordion\" id=\"r72\"><a class=\"xbrlviewer\" href=\"javascript:loadReport(72);\" onclick=\"javascript:highlight(this);\">Financing Receivables (Details 7)</a></li>\n",
       " <li class=\"accordion\" id=\"r73\"><a class=\"xbrlviewer\" href=\"javascript:loadReport(73);\" onclick=\"javascript:highlight(this);\">Property, Plant and Equipment (Details)</a></li>\n",
       " <li class=\"accordion\" id=\"r74\"><a class=\"xbrlviewer\" href=\"javascript:loadReport(74);\" onclick=\"javascript:highlight(this);\">Investments and Sundry Assets (Details)</a></li>\n",
       " <li class=\"accordion\" id=\"r75\"><a class=\"xbrlviewer\" href=\"javascript:loadReport(75);\" onclick=\"javascript:highlight(this);\">Intangible Assets Including Goodwill (Details 1)</a></li>\n",
       " <li class=\"accordion\" id=\"r76\"><a class=\"xbrlviewer\" href=\"javascript:loadReport(76);\" onclick=\"javascript:highlight(this);\">Intangible Assets Including Goodwill (Details 2)</a></li>\n",
       " <li class=\"accordion\" id=\"r77\"><a class=\"xbrlviewer\" href=\"javascript:loadReport(77);\" onclick=\"javascript:highlight(this);\">Intangible Assets Including Goodwill (Details 3)</a></li>\n",
       " <li class=\"accordion\" id=\"r78\"><a class=\"xbrlviewer\" href=\"javascript:loadReport(78);\" onclick=\"javascript:highlight(this);\">Borrowings (Short Term Debt Table) (Details 1)</a></li>\n",
       " <li class=\"accordion\" id=\"r79\"><a class=\"xbrlviewer\" href=\"javascript:loadReport(79);\" onclick=\"javascript:highlight(this);\">Borrowings (Pre Swap Borrowing Table) (Details2)</a></li>\n",
       " <li class=\"accordion\" id=\"r80\"><a class=\"xbrlviewer\" href=\"javascript:loadReport(80);\" onclick=\"javascript:highlight(this);\">Borrowings (Pre Swap Borrowing Table) (Details 3)</a></li>\n",
       " <li class=\"accordion\" id=\"r81\"><a class=\"xbrlviewer\" href=\"javascript:loadReport(81);\" onclick=\"javascript:highlight(this);\">Borrowings (Post Swap Borrowing Tables) (Details 4)</a></li>\n",
       " <li class=\"accordion\" id=\"r82\"><a class=\"xbrlviewer\" href=\"javascript:loadReport(82);\" onclick=\"javascript:highlight(this);\">Borrowings (Pre-Swap annual contractual maturities) (Details 5)</a></li>\n",
       " <li class=\"accordion\" id=\"r83\"><a class=\"xbrlviewer\" href=\"javascript:loadReport(83);\" onclick=\"javascript:highlight(this);\">Borrowings (Interest on Debt) (Details 7)</a></li>\n",
       " <li class=\"accordion\" id=\"r84\"><a class=\"xbrlviewer\" href=\"javascript:loadReport(84);\" onclick=\"javascript:highlight(this);\">Other Liabilities (Narratives) (Details 1)</a></li>\n",
       " <li class=\"accordion\" id=\"r85\"><a class=\"xbrlviewer\" href=\"javascript:loadReport(85);\" onclick=\"javascript:highlight(this);\">Other Liabilities (Other Liabilities Reconciliation) (Details 2)</a></li>\n",
       " <li class=\"accordion\" id=\"r86\"><a class=\"xbrlviewer\" href=\"javascript:loadReport(86);\" onclick=\"javascript:highlight(this);\">Equity Activity (Narratives) (Detail 1)</a></li>\n",
       " <li class=\"accordion\" id=\"r87\"><a class=\"xbrlviewer\" href=\"javascript:loadReport(87);\" onclick=\"javascript:highlight(this);\">Equity Activity (Reclassification and Taxes Related Tables) (Details 2)</a></li>\n",
       " <li class=\"accordion\" id=\"r88\"><a class=\"xbrlviewer\" href=\"javascript:loadReport(88);\" onclick=\"javascript:highlight(this);\">Equity Activity (Reclassification and Taxes Related Tables Calculations) (Details 3)</a></li>\n",
       " <li class=\"accordion\" id=\"r89\"><a class=\"xbrlviewer\" href=\"javascript:loadReport(89);\" onclick=\"javascript:highlight(this);\">Equity Activity (AOCI Table) (Details 4)</a></li>\n",
       " <li class=\"accordion\" id=\"r90\"><a class=\"xbrlviewer\" href=\"javascript:loadReport(90);\" onclick=\"javascript:highlight(this);\">Contingencies and Commitments (Contingencies) (Details 1)</a></li>\n",
       " <li class=\"accordion\" id=\"r91\"><a class=\"xbrlviewer\" href=\"javascript:loadReport(91);\" onclick=\"javascript:highlight(this);\">Contingencies and Commitments (Commitments) (Details 2)</a></li>\n",
       " <li class=\"accordion\" id=\"r92\"><a class=\"xbrlviewer\" href=\"javascript:loadReport(92);\" onclick=\"javascript:highlight(this);\">Taxes (Narratives) (Details 1)</a></li>\n",
       " <li class=\"accordion\" id=\"r93\"><a class=\"xbrlviewer\" href=\"javascript:loadReport(93);\" onclick=\"javascript:highlight(this);\">Taxes (Income before Income Taxes) (Details 2)</a></li>\n",
       " <li class=\"accordion\" id=\"r94\"><a class=\"xbrlviewer\" href=\"javascript:loadReport(94);\" onclick=\"javascript:highlight(this);\">Taxes (Provision for Income Taxes) (Details 3)</a></li>\n",
       " <li class=\"accordion\" id=\"r95\"><a class=\"xbrlviewer\" href=\"javascript:loadReport(95);\" onclick=\"javascript:highlight(this);\">Taxes (Component of Income Tax Provision) (Details 4)</a></li>\n",
       " <li class=\"accordion\" id=\"r96\"><a class=\"xbrlviewer\" href=\"javascript:loadReport(96);\" onclick=\"javascript:highlight(this);\">Taxes (Reconciliation of Tax Rates) (Details 5)</a></li>\n",
       " <li class=\"accordion\" id=\"r97\"><a class=\"xbrlviewer\" href=\"javascript:loadReport(97);\" onclick=\"javascript:highlight(this);\">Taxes (Reconciliation of Tax Rates Narratives) (Details 6)</a></li>\n",
       " <li class=\"accordion\" id=\"r98\"><a class=\"xbrlviewer\" href=\"javascript:loadReport(98);\" onclick=\"javascript:highlight(this);\">Taxes (Deferred Taxes) (Details 7)</a></li>\n",
       " <li class=\"accordion\" id=\"r99\"><a class=\"xbrlviewer\" href=\"javascript:loadReport(99);\" onclick=\"javascript:highlight(this);\">Taxes (Unrecognized Tax Benefit) (Details 8)</a></li>\n",
       " <li class=\"accordion\" id=\"r100\"><a class=\"xbrlviewer\" href=\"javascript:loadReport(100);\" onclick=\"javascript:highlight(this);\">Research, Development and Engineering (Details)</a></li>\n",
       " <li class=\"accordion\" id=\"r101\"><a class=\"xbrlviewer\" href=\"javascript:loadReport(101);\" onclick=\"javascript:highlight(this);\">Earnings Per Share of Common Stock (Details)</a></li>\n",
       " <li class=\"accordion\" id=\"r102\"><a class=\"xbrlviewer\" href=\"javascript:loadReport(102);\" onclick=\"javascript:highlight(this);\">Rental Expense and Lease Commitments (Details)</a></li>\n",
       " <li class=\"accordion\" id=\"r103\"><a class=\"xbrlviewer\" href=\"javascript:loadReport(103);\" onclick=\"javascript:highlight(this);\">Stock-Based Compensation (Narratives) (Details 1)</a></li>\n",
       " <li class=\"accordion\" id=\"r104\"><a class=\"xbrlviewer\" href=\"javascript:loadReport(104);\" onclick=\"javascript:highlight(this);\">Stock-Based Compensation (Stock-based Compensation Table) (Details 2)</a></li>\n",
       " <li class=\"accordion\" id=\"r105\"><a class=\"xbrlviewer\" href=\"javascript:loadReport(105);\" onclick=\"javascript:highlight(this);\">Stock-Based Compensation (RSU,PSU) (Details 3)</a></li>\n",
       " <li class=\"accordion\" id=\"r106\"><a class=\"xbrlviewer\" href=\"javascript:loadReport(106);\" onclick=\"javascript:highlight(this);\">Stock-Based Compensation (Option Activity Summary) (Details 4)</a></li>\n",
       " <li class=\"accordion\" id=\"r107\"><a class=\"xbrlviewer\" href=\"javascript:loadReport(107);\" onclick=\"javascript:highlight(this);\">Stock-Based Compensation (Exercise Price Range) (Details 5)</a></li>\n",
       " <li class=\"accordion\" id=\"r108\"><a class=\"xbrlviewer\" href=\"javascript:loadReport(108);\" onclick=\"javascript:highlight(this);\">Retirement-Related Benefits (Details 1)</a></li>\n",
       " <li class=\"accordion\" id=\"r109\"><a class=\"xbrlviewer\" href=\"javascript:loadReport(109);\" onclick=\"javascript:highlight(this);\">Retirement-Related Benefits (Net Periodic Income Cost) (Details 2)</a></li>\n",
       " <li class=\"accordion\" id=\"r110\"><a class=\"xbrlviewer\" href=\"javascript:loadReport(110);\" onclick=\"javascript:highlight(this);\">Retirement-Related Benefits (PBO, APBO, FV of Plan Assets, and Funded Status) (Details 3)</a></li>\n",
       " <li class=\"accordion\" id=\"r111\"><a class=\"xbrlviewer\" href=\"javascript:loadReport(111);\" onclick=\"javascript:highlight(this);\">Retirement-Related Benefits (Components of Net Period Income Cost) (Details 4)</a></li>\n",
       " <li class=\"accordion\" id=\"r112\"><a class=\"xbrlviewer\" href=\"javascript:loadReport(112);\" onclick=\"javascript:highlight(this);\">Retirement-Related Benefits (Changes in Benefit Obliation and Plan Assets, and Funded Status) (Details 5)</a></li>\n",
       " <li class=\"accordion\" id=\"r113\"><a class=\"xbrlviewer\" href=\"javascript:loadReport(113);\" onclick=\"javascript:highlight(this);\">Retirement-Related Benefits (Funded Status) (Details 6)</a></li>\n",
       " <li class=\"accordion\" id=\"r114\"><a class=\"xbrlviewer\" href=\"javascript:loadReport(114);\" onclick=\"javascript:highlight(this);\">Retirement-Related Benefits (OCI and AOCI) (Details 7)</a></li>\n",
       " <li class=\"accordion\" id=\"r115\"><a class=\"xbrlviewer\" href=\"javascript:loadReport(115);\" onclick=\"javascript:highlight(this);\">Retirement-Related Benefits (Assumptions) (Details 8)</a></li>\n",
       " <li class=\"accordion\" id=\"r116\"><a class=\"xbrlviewer\" href=\"javascript:loadReport(116);\" onclick=\"javascript:highlight(this);\">Retirement-Related Benefits (Pension Plan Assets) (Details 9)</a></li>\n",
       " <li class=\"accordion\" id=\"r117\"><a class=\"xbrlviewer\" href=\"javascript:loadReport(117);\" onclick=\"javascript:highlight(this);\">Retirement-Related Benefits (Reconciliation of Level 3 Assets) (Details 10)</a></li>\n",
       " <li class=\"accordion\" id=\"r118\"><a class=\"xbrlviewer\" href=\"javascript:loadReport(118);\" onclick=\"javascript:highlight(this);\">Retirement-Related Benefits (Pensions Expected Payments) (Details 11)</a></li>\n",
       " <li class=\"accordion\" id=\"r119\"><a class=\"xbrlviewer\" href=\"javascript:loadReport(119);\" onclick=\"javascript:highlight(this);\">Retirement-Related Benefits (Plans with ABO in Excess of Plan Assets) (Details 12)</a></li>\n",
       " <li class=\"accordion\" id=\"r120\"><a class=\"xbrlviewer\" href=\"javascript:loadReport(120);\" onclick=\"javascript:highlight(this);\">Segments (Segment Table) (Details 1)</a></li>\n",
       " <li class=\"accordion\" id=\"r121\"><a class=\"xbrlviewer\" href=\"javascript:loadReport(121);\" onclick=\"javascript:highlight(this);\">Segments (Revenue Reconciliation) (Details 2)</a></li>\n",
       " <li class=\"accordion\" id=\"r122\"><a class=\"xbrlviewer\" href=\"javascript:loadReport(122);\" onclick=\"javascript:highlight(this);\">Segments (Operating Profit Reconciliation) (Details 3)</a></li>\n",
       " <li class=\"accordion\" id=\"r123\"><a class=\"xbrlviewer\" href=\"javascript:loadReport(123);\" onclick=\"javascript:highlight(this);\">Segments (Management System Segment View) (Details 4)</a></li>\n",
       " <li class=\"accordion\" id=\"r124\"><a class=\"xbrlviewer\" href=\"javascript:loadReport(124);\" onclick=\"javascript:highlight(this);\">Segments (Asset Reconciliation) (Details 5)</a></li>\n",
       " <li class=\"accordion\" id=\"r125\"><a class=\"xbrlviewer\" href=\"javascript:loadReport(125);\" onclick=\"javascript:highlight(this);\">Segments (Revenue and Plant Property Equipment by Countries) (Details 6)</a></li>\n",
       " <li class=\"accordion\" id=\"r126\"><a class=\"xbrlviewer\" href=\"javascript:loadReport(126);\" onclick=\"javascript:highlight(this);\">Segments (External Revenue by Segments) (Details 7)</a></li>\n",
       " <li class=\"accordion\" id=\"r127\"><a class=\"xbrlviewer\" href=\"javascript:loadReport(127);\" onclick=\"javascript:highlight(this);\">Subsequent Events (Details)</a></li>\n",
       " <li class=\"accordion\" id=\"r128\"><a class=\"xbrlviewer\" href=\"javascript:loadReport(128);\" onclick=\"javascript:highlight(this);\">VALUATION AND QUALIFYING ACCOUNTS AND RESERVES (Details)</a></li>\n",
       " </ul>\n",
       " </li>\n",
       " <li><a href=\"javascript:loadReport(1+128);\"><img alt=\"Reports\" border=\"0\" height=\"12\" src=\"/images/reports.gif\" width=\"9\"/>All Reports</a></li>\n",
       " </ul>\n",
       " </div>\n",
       " </td>\n",
       " <td style=\"vertical-align: top;\">\n",
       " <div id=\"reportDiv\"></div>\n",
       " </td>\n",
       " </tr>\n",
       " </table>]"
      ]
     },
     "execution_count": 33,
     "metadata": {},
     "output_type": "execute_result"
    }
   ],
   "source": [
    "table_tag = soup.find_all('table')\n",
    "table_tag"
   ]
  }
 ],
 "metadata": {
  "kernelspec": {
   "display_name": "Python 3 (ipykernel)",
   "language": "python",
   "name": "python3"
  },
  "language_info": {
   "codemirror_mode": {
    "name": "ipython",
    "version": 3
   },
   "file_extension": ".py",
   "mimetype": "text/x-python",
   "name": "python",
   "nbconvert_exporter": "python",
   "pygments_lexer": "ipython3",
   "version": "3.10.4"
  },
  "varInspector": {
   "cols": {
    "lenName": 16,
    "lenType": 16,
    "lenVar": 40
   },
   "kernels_config": {
    "python": {
     "delete_cmd_postfix": "",
     "delete_cmd_prefix": "del ",
     "library": "var_list.py",
     "varRefreshCmd": "print(var_dic_list())"
    },
    "r": {
     "delete_cmd_postfix": ") ",
     "delete_cmd_prefix": "rm(",
     "library": "var_list.r",
     "varRefreshCmd": "cat(var_dic_list()) "
    }
   },
   "types_to_exclude": [
    "module",
    "function",
    "builtin_function_or_method",
    "instance",
    "_Feature"
   ],
   "window_display": false
  }
 },
 "nbformat": 4,
 "nbformat_minor": 5
}
